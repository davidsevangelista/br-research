{
 "cells": [
  {
   "cell_type": "code",
   "execution_count": 25,
   "metadata": {
    "collapsed": true
   },
   "outputs": [],
   "source": [
    "run market_features.py"
   ]
  },
  {
   "cell_type": "code",
   "execution_count": 27,
   "metadata": {},
   "outputs": [
    {
     "name": "stderr",
     "output_type": "stream",
     "text": [
      "/Users/evanged/anaconda/lib/python3.6/site-packages/pandas/core/groupby.py:4036: FutureWarning: using a dict with renaming is deprecated and will be removed in a future version\n",
      "  return super(DataFrameGroupBy, self).aggregate(arg, *args, **kwargs)\n"
     ]
    },
    {
     "data": {
      "image/png": "[encoded data removed]",
      "text/plain": [
       "<matplotlib.figure.Figure at 0x1157ada58>"
      ]
     },
     "metadata": {},
     "output_type": "display_data"
    },
    {
     "data": {
      "image/png": "[encoded data removed]",
      "text/plain": [
       "<matplotlib.figure.Figure at 0x11571a208>"
      ]
     },
     "metadata": {},
     "output_type": "display_data"
    }
   ],
   "source": [
    "gr=imbalance_regime(lob, trades);"
   ]
  },
  {
   "cell_type": "markdown",
   "metadata": {},
   "source": [
    "### Number of market orders and mean of order imbalance conditional to order imbalance regime"
   ]
  },
  {
   "cell_type": "code",
   "execution_count": 28,
   "metadata": {},
   "outputs": [
    {
     "data": {
      "text/plain": [
       "5679.0"
      ]
     },
     "execution_count": 28,
     "metadata": {},
     "output_type": "execute_result"
    }
   ],
   "source": [
    "gr['Total Imbalance']['Num'].sum()"
   ]
  },
  {
   "cell_type": "markdown",
   "metadata": {},
   "source": [
    "### Percentage of market orders conditional to order imbalance"
   ]
  },
  {
   "cell_type": "code",
   "execution_count": 29,
   "metadata": {},
   "outputs": [
    {
     "data": {
      "text/html": [
       "<div>\n",
       "<style>\n",
       "    .dataframe thead tr:only-child th {\n",
       "        text-align: right;\n",
       "    }\n",
       "\n",
       "    .dataframe thead th {\n",
       "        text-align: left;\n",
       "    }\n",
       "\n",
       "    .dataframe tbody tr th {\n",
       "        vertical-align: top;\n",
       "    }\n",
       "</style>\n",
       "<table border=\"1\" class=\"dataframe\">\n",
       "  <thead>\n",
       "    <tr style=\"text-align: right;\">\n",
       "      <th></th>\n",
       "      <th>Imbalance Buy MO</th>\n",
       "      <th>Imbalance Sell MO</th>\n",
       "      <th>Total Imbalance</th>\n",
       "    </tr>\n",
       "    <tr>\n",
       "      <th>Regime</th>\n",
       "      <th></th>\n",
       "      <th></th>\n",
       "      <th></th>\n",
       "    </tr>\n",
       "  </thead>\n",
       "  <tbody>\n",
       "    <tr>\n",
       "      <th>Regime 1</th>\n",
       "      <td>16.417455</td>\n",
       "      <td>21.981682</td>\n",
       "      <td>18.770910</td>\n",
       "    </tr>\n",
       "    <tr>\n",
       "      <th>Regime 2</th>\n",
       "      <td>16.295392</td>\n",
       "      <td>23.646961</td>\n",
       "      <td>19.404825</td>\n",
       "    </tr>\n",
       "    <tr>\n",
       "      <th>Regime 3</th>\n",
       "      <td>21.452548</td>\n",
       "      <td>20.774355</td>\n",
       "      <td>21.165698</td>\n",
       "    </tr>\n",
       "    <tr>\n",
       "      <th>Regime 4</th>\n",
       "      <td>23.680195</td>\n",
       "      <td>16.777685</td>\n",
       "      <td>20.760697</td>\n",
       "    </tr>\n",
       "    <tr>\n",
       "      <th>Regime 5</th>\n",
       "      <td>22.154410</td>\n",
       "      <td>16.819317</td>\n",
       "      <td>19.897869</td>\n",
       "    </tr>\n",
       "  </tbody>\n",
       "</table>\n",
       "</div>"
      ],
      "text/plain": [
       "          Imbalance Buy MO  Imbalance Sell MO  Total Imbalance\n",
       "Regime                                                        \n",
       "Regime 1         16.417455          21.981682        18.770910\n",
       "Regime 2         16.295392          23.646961        19.404825\n",
       "Regime 3         21.452548          20.774355        21.165698\n",
       "Regime 4         23.680195          16.777685        20.760697\n",
       "Regime 5         22.154410          16.819317        19.897869"
      ]
     },
     "execution_count": 29,
     "metadata": {},
     "output_type": "execute_result"
    }
   ],
   "source": [
    "grn=gr.iloc[:,gr.columns.get_level_values(1)=='Num'].transform(lambda x: 100*x/x.sum())\n",
    "grn.columns=grn.columns.droplevel(1)\n",
    "grn\n",
    "#pandas_df_to_markdown_table(grn)"
   ]
  },
  {
   "cell_type": "markdown",
   "metadata": {},
   "source": [
    "### Mean of order imbalance conditional to imbalance regime"
   ]
  },
  {
   "cell_type": "code",
   "execution_count": null,
   "metadata": {},
   "outputs": [],
   "source": [
    "grm=gr.iloc[:,gr.columns.get_level_values(1)=='Mean']#.transform(lambda x: x/x.sum())\n",
    "grm.columns=grm.columns.droplevel(1)\n",
    "grm"
   ]
  },
  {
   "cell_type": "code",
   "execution_count": null,
   "metadata": {},
   "outputs": [],
   "source": [
    "lobimb,reg=get_lob_trade_imbalance(lob,trades,'All')"
   ]
  },
  {
   "cell_type": "markdown",
   "metadata": {},
   "source": [
    "# Dividing the analysis by broker activity"
   ]
  },
  {
   "cell_type": "code",
   "execution_count": null,
   "metadata": {},
   "outputs": [],
   "source": [
    "btg_buy=lobimb[lobimb['Buy Broker']==85]\n",
    "btg_sell=lobimb[lobimb['Sell Broker']==85]"
   ]
  },
  {
   "cell_type": "code",
   "execution_count": null,
   "metadata": {},
   "outputs": [],
   "source": [
    "btg_buy.count()"
   ]
  },
  {
   "cell_type": "code",
   "execution_count": null,
   "metadata": {},
   "outputs": [],
   "source": [
    "btg_sell.count()"
   ]
  },
  {
   "cell_type": "markdown",
   "metadata": {},
   "source": [
    "# First, let's correct the Market Orders"
   ]
  },
  {
   "cell_type": "code",
   "execution_count": null,
   "metadata": {},
   "outputs": [],
   "source": [
    "lob_all,reg = get_lob_trade_imbalance(lob,trades,'All')"
   ]
  },
  {
   "cell_type": "code",
   "execution_count": null,
   "metadata": {},
   "outputs": [],
   "source": [
    "lob_all.head()"
   ]
  },
  {
   "cell_type": "code",
   "execution_count": 21,
   "metadata": {},
   "outputs": [
    {
     "data": {
      "text/html": [
       "<div>\n",
       "<style>\n",
       "    .dataframe thead tr:only-child th {\n",
       "        text-align: right;\n",
       "    }\n",
       "\n",
       "    .dataframe thead th {\n",
       "        text-align: left;\n",
       "    }\n",
       "\n",
       "    .dataframe tbody tr th {\n",
       "        vertical-align: top;\n",
       "    }\n",
       "</style>\n",
       "<table border=\"1\" class=\"dataframe\">\n",
       "  <thead>\n",
       "    <tr style=\"text-align: right;\">\n",
       "      <th></th>\n",
       "      <th>Total Volume</th>\n",
       "      <th>Count</th>\n",
       "    </tr>\n",
       "    <tr>\n",
       "      <th>Report Time</th>\n",
       "      <th></th>\n",
       "      <th></th>\n",
       "    </tr>\n",
       "  </thead>\n",
       "  <tbody>\n",
       "    <tr>\n",
       "      <th>2017-10-03 09:00:50.939</th>\n",
       "      <td>1245</td>\n",
       "      <td>103</td>\n",
       "    </tr>\n",
       "    <tr>\n",
       "      <th>2017-10-03 09:00:50.948</th>\n",
       "      <td>10</td>\n",
       "      <td>2</td>\n",
       "    </tr>\n",
       "    <tr>\n",
       "      <th>2017-10-03 09:00:50.955</th>\n",
       "      <td>10</td>\n",
       "      <td>2</td>\n",
       "    </tr>\n",
       "    <tr>\n",
       "      <th>2017-10-03 09:00:50.964</th>\n",
       "      <td>10</td>\n",
       "      <td>2</td>\n",
       "    </tr>\n",
       "    <tr>\n",
       "      <th>2017-10-03 09:00:51.291</th>\n",
       "      <td>10</td>\n",
       "      <td>2</td>\n",
       "    </tr>\n",
       "  </tbody>\n",
       "</table>\n",
       "</div>"
      ],
      "text/plain": [
       "                         Total Volume  Count\n",
       "Report Time                                 \n",
       "2017-10-03 09:00:50.939          1245    103\n",
       "2017-10-03 09:00:50.948            10      2\n",
       "2017-10-03 09:00:50.955            10      2\n",
       "2017-10-03 09:00:50.964            10      2\n",
       "2017-10-03 09:00:51.291            10      2"
      ]
     },
     "execution_count": 21,
     "metadata": {},
     "output_type": "execute_result"
    }
   ],
   "source": [
    "aggr = {'Count':'count', 'Total Volume':'sum'}\n",
    "vol_walk_lob = trades.groupby(trades.index)['Volume'].agg(['sum','count'])\n",
    "vol_walk_lob.columns=['Total Volume', 'Count']\n",
    "vol_walk_lob.head()"
   ]
  },
  {
   "cell_type": "code",
   "execution_count": 9,
   "metadata": {},
   "outputs": [
    {
     "data": {
      "text/html": [
       "<div>\n",
       "<style>\n",
       "    .dataframe thead tr:only-child th {\n",
       "        text-align: right;\n",
       "    }\n",
       "\n",
       "    .dataframe thead th {\n",
       "        text-align: left;\n",
       "    }\n",
       "\n",
       "    .dataframe tbody tr th {\n",
       "        vertical-align: top;\n",
       "    }\n",
       "</style>\n",
       "<table border=\"1\" class=\"dataframe\">\n",
       "  <thead>\n",
       "    <tr style=\"text-align: right;\">\n",
       "      <th></th>\n",
       "      <th>Time Frame</th>\n",
       "      <th>Price</th>\n",
       "      <th>Volume</th>\n",
       "      <th>Buy Seq Ord Num</th>\n",
       "      <th>Buy Agressor</th>\n",
       "      <th>Sell Seq Ord Num</th>\n",
       "      <th>Sell Agressor</th>\n",
       "      <th>Cross Indicator</th>\n",
       "      <th>Buy Broker</th>\n",
       "      <th>Sell Broker</th>\n",
       "      <th>sum</th>\n",
       "      <th>count</th>\n",
       "    </tr>\n",
       "    <tr>\n",
       "      <th>Report Time</th>\n",
       "      <th></th>\n",
       "      <th></th>\n",
       "      <th></th>\n",
       "      <th></th>\n",
       "      <th></th>\n",
       "      <th></th>\n",
       "      <th></th>\n",
       "      <th></th>\n",
       "      <th></th>\n",
       "      <th></th>\n",
       "      <th></th>\n",
       "      <th></th>\n",
       "    </tr>\n",
       "  </thead>\n",
       "  <tbody>\n",
       "    <tr>\n",
       "      <th>2017-10-03 09:00:50.939</th>\n",
       "      <td>63624733250939</td>\n",
       "      <td>3200.0</td>\n",
       "      <td>5</td>\n",
       "      <td>74882413343</td>\n",
       "      <td>2</td>\n",
       "      <td>74882413583</td>\n",
       "      <td>2</td>\n",
       "      <td>0</td>\n",
       "      <td>120</td>\n",
       "      <td>147</td>\n",
       "      <td>1245</td>\n",
       "      <td>103</td>\n",
       "    </tr>\n",
       "    <tr>\n",
       "      <th>2017-10-03 09:00:50.948</th>\n",
       "      <td>63624733250948</td>\n",
       "      <td>3199.5</td>\n",
       "      <td>5</td>\n",
       "      <td>74882413750</td>\n",
       "      <td>2</td>\n",
       "      <td>74882414661</td>\n",
       "      <td>1</td>\n",
       "      <td>0</td>\n",
       "      <td>147</td>\n",
       "      <td>8</td>\n",
       "      <td>10</td>\n",
       "      <td>2</td>\n",
       "    </tr>\n",
       "    <tr>\n",
       "      <th>2017-10-03 09:00:50.955</th>\n",
       "      <td>63624733250955</td>\n",
       "      <td>3199.5</td>\n",
       "      <td>5</td>\n",
       "      <td>74882414662</td>\n",
       "      <td>2</td>\n",
       "      <td>74882414764</td>\n",
       "      <td>1</td>\n",
       "      <td>0</td>\n",
       "      <td>3</td>\n",
       "      <td>8</td>\n",
       "      <td>10</td>\n",
       "      <td>2</td>\n",
       "    </tr>\n",
       "    <tr>\n",
       "      <th>2017-10-03 09:00:50.964</th>\n",
       "      <td>63624733250964</td>\n",
       "      <td>3199.0</td>\n",
       "      <td>5</td>\n",
       "      <td>74882414666</td>\n",
       "      <td>2</td>\n",
       "      <td>74882414819</td>\n",
       "      <td>1</td>\n",
       "      <td>0</td>\n",
       "      <td>3</td>\n",
       "      <td>8</td>\n",
       "      <td>10</td>\n",
       "      <td>2</td>\n",
       "    </tr>\n",
       "    <tr>\n",
       "      <th>2017-10-03 09:00:51.291</th>\n",
       "      <td>63624733251291</td>\n",
       "      <td>3200.0</td>\n",
       "      <td>5</td>\n",
       "      <td>74882414950</td>\n",
       "      <td>1</td>\n",
       "      <td>74882414448</td>\n",
       "      <td>2</td>\n",
       "      <td>0</td>\n",
       "      <td>88</td>\n",
       "      <td>21</td>\n",
       "      <td>10</td>\n",
       "      <td>2</td>\n",
       "    </tr>\n",
       "  </tbody>\n",
       "</table>\n",
       "</div>"
      ],
      "text/plain": [
       "                             Time Frame   Price  Volume  Buy Seq Ord Num  \\\n",
       "Report Time                                                                \n",
       "2017-10-03 09:00:50.939  63624733250939  3200.0       5      74882413343   \n",
       "2017-10-03 09:00:50.948  63624733250948  3199.5       5      74882413750   \n",
       "2017-10-03 09:00:50.955  63624733250955  3199.5       5      74882414662   \n",
       "2017-10-03 09:00:50.964  63624733250964  3199.0       5      74882414666   \n",
       "2017-10-03 09:00:51.291  63624733251291  3200.0       5      74882414950   \n",
       "\n",
       "                         Buy Agressor  Sell Seq Ord Num  Sell Agressor  \\\n",
       "Report Time                                                              \n",
       "2017-10-03 09:00:50.939             2       74882413583              2   \n",
       "2017-10-03 09:00:50.948             2       74882414661              1   \n",
       "2017-10-03 09:00:50.955             2       74882414764              1   \n",
       "2017-10-03 09:00:50.964             2       74882414819              1   \n",
       "2017-10-03 09:00:51.291             1       74882414448              2   \n",
       "\n",
       "                         Cross Indicator  Buy Broker  Sell Broker   sum  count  \n",
       "Report Time                                                                     \n",
       "2017-10-03 09:00:50.939                0         120          147  1245    103  \n",
       "2017-10-03 09:00:50.948                0         147            8    10      2  \n",
       "2017-10-03 09:00:50.955                0           3            8    10      2  \n",
       "2017-10-03 09:00:50.964                0           3            8    10      2  \n",
       "2017-10-03 09:00:51.291                0          88           21    10      2  "
      ]
     },
     "execution_count": 9,
     "metadata": {},
     "output_type": "execute_result"
    }
   ],
   "source": [
    "dd=drop_rep(trades).join(vol_walk_lob,how='outer')\n",
    "dd.head()"
   ]
  },
  {
   "cell_type": "code",
   "execution_count": null,
   "metadata": {},
   "outputs": [],
   "source": [
    "print(dd.head())"
   ]
  },
  {
   "cell_type": "code",
   "execution_count": null,
   "metadata": {},
   "outputs": [],
   "source": [
    "sum(tra.index==drop_rep(trades).index)"
   ]
  },
  {
   "cell_type": "code",
   "execution_count": null,
   "metadata": {},
   "outputs": [],
   "source": [
    "drop_rep(trades).count()"
   ]
  },
  {
   "cell_type": "code",
   "execution_count": null,
   "metadata": {},
   "outputs": [],
   "source": [
    "trades.groupby(trades.index)['Volume'].agg('count').reset_index(name='Count')"
   ]
  },
  {
   "cell_type": "code",
   "execution_count": null,
   "metadata": {},
   "outputs": [],
   "source": [
    "trades.head()"
   ]
  },
  {
   "cell_type": "code",
   "execution_count": null,
   "metadata": {},
   "outputs": [],
   "source": [
    "trades.count()"
   ]
  },
  {
   "cell_type": "code",
   "execution_count": 24,
   "metadata": {},
   "outputs": [
    {
     "data": {
      "text/plain": [
       "['Regime1', 'Regime2', 'Regime3', 'Regime4', 'Regime5']"
      ]
     },
     "execution_count": 24,
     "metadata": {},
     "output_type": "execute_result"
    }
   ],
   "source": [
    "[\"Regime\"+str(i) for i in range(1,6)]"
   ]
  },
  {
   "cell_type": "code",
   "execution_count": null,
   "metadata": {
    "collapsed": true
   },
   "outputs": [],
   "source": []
  }
 ],
 "metadata": {
  "kernelspec": {
   "display_name": "Python 3",
   "language": "python",
   "name": "python3"
  },
  "language_info": {
   "codemirror_mode": {
    "name": "ipython",
    "version": 3
   },
   "file_extension": ".py",
   "mimetype": "text/x-python",
   "name": "python",
   "nbconvert_exporter": "python",
   "pygments_lexer": "ipython3",
   "version": "3.6.0"
  }
 },
 "nbformat": 4,
 "nbformat_minor": 2
}
